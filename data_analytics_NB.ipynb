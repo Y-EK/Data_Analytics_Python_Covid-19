{
 "cells": [
  {
   "cell_type": "code",
   "execution_count": 1,
   "metadata": {},
   "outputs": [],
   "source": [
    "import pandas as pd\n",
    "import numpy as np\n",
    "import datetime\n",
    "from getting_started import *\n",
    "import detect_duplicates_script as script_dd\n",
    "import get_final_dataset as script_fds\n",
    "import matplotlib.pyplot as plt\n",
    "import seaborn as sns"
   ]
  },
  {
   "cell_type": "code",
   "execution_count": 26,
   "metadata": {},
   "outputs": [
    {
     "data": {
      "text/html": [
       "<div>\n",
       "<style scoped>\n",
       "    .dataframe tbody tr th:only-of-type {\n",
       "        vertical-align: middle;\n",
       "    }\n",
       "\n",
       "    .dataframe tbody tr th {\n",
       "        vertical-align: top;\n",
       "    }\n",
       "\n",
       "    .dataframe thead th {\n",
       "        text-align: right;\n",
       "    }\n",
       "</style>\n",
       "<table border=\"1\" class=\"dataframe\">\n",
       "  <thead>\n",
       "    <tr style=\"text-align: right;\">\n",
       "      <th></th>\n",
       "      <th>patient_id</th>\n",
       "      <th>given_name</th>\n",
       "      <th>surname</th>\n",
       "      <th>street_number</th>\n",
       "      <th>address_1</th>\n",
       "      <th>suburb</th>\n",
       "      <th>postcode</th>\n",
       "      <th>state</th>\n",
       "      <th>date_of_birth</th>\n",
       "      <th>age</th>\n",
       "      <th>phone_number</th>\n",
       "      <th>address_2</th>\n",
       "    </tr>\n",
       "  </thead>\n",
       "  <tbody>\n",
       "    <tr>\n",
       "      <th>15</th>\n",
       "      <td>378167</td>\n",
       "      <td>cain</td>\n",
       "      <td>scarles</td>\n",
       "      <td>58.0</td>\n",
       "      <td>reader court</td>\n",
       "      <td>dorrigo</td>\n",
       "      <td>2428</td>\n",
       "      <td>qld</td>\n",
       "      <td>NaN</td>\n",
       "      <td>31.0</td>\n",
       "      <td>03 67476384</td>\n",
       "      <td>jorobe</td>\n",
       "    </tr>\n",
       "    <tr>\n",
       "      <th>17</th>\n",
       "      <td>429365</td>\n",
       "      <td>None</td>\n",
       "      <td>coffey</td>\n",
       "      <td>1409.0</td>\n",
       "      <td>musson close</td>\n",
       "      <td>beaconsfield upper</td>\n",
       "      <td>5019</td>\n",
       "      <td>wa</td>\n",
       "      <td>NaN</td>\n",
       "      <td>30.0</td>\n",
       "      <td>03 13369308</td>\n",
       "      <td>silverweir</td>\n",
       "    </tr>\n",
       "    <tr>\n",
       "      <th>22</th>\n",
       "      <td>427069</td>\n",
       "      <td>mystique</td>\n",
       "      <td>white</td>\n",
       "      <td>85.0</td>\n",
       "      <td>herington street</td>\n",
       "      <td>east maitland</td>\n",
       "      <td>6000</td>\n",
       "      <td>qld</td>\n",
       "      <td>NaN</td>\n",
       "      <td>21.0</td>\n",
       "      <td>07 24234495</td>\n",
       "      <td>None</td>\n",
       "    </tr>\n",
       "    <tr>\n",
       "      <th>29</th>\n",
       "      <td>284779</td>\n",
       "      <td>alexandra</td>\n",
       "      <td>miles</td>\n",
       "      <td>23.0</td>\n",
       "      <td>duffy street</td>\n",
       "      <td>christies beach</td>\n",
       "      <td>2047</td>\n",
       "      <td>nsw</td>\n",
       "      <td>NaN</td>\n",
       "      <td>29.0</td>\n",
       "      <td>02 24131074</td>\n",
       "      <td>riverland village</td>\n",
       "    </tr>\n",
       "    <tr>\n",
       "      <th>34</th>\n",
       "      <td>600186</td>\n",
       "      <td>zachary</td>\n",
       "      <td>stancliffe</td>\n",
       "      <td>40.0</td>\n",
       "      <td>macgregor street</td>\n",
       "      <td>coodanup</td>\n",
       "      <td>6027</td>\n",
       "      <td>nsw</td>\n",
       "      <td>NaN</td>\n",
       "      <td>29.0</td>\n",
       "      <td>03 67952046</td>\n",
       "      <td>woodsong</td>\n",
       "    </tr>\n",
       "    <tr>\n",
       "      <th>...</th>\n",
       "      <td>...</td>\n",
       "      <td>...</td>\n",
       "      <td>...</td>\n",
       "      <td>...</td>\n",
       "      <td>...</td>\n",
       "      <td>...</td>\n",
       "      <td>...</td>\n",
       "      <td>...</td>\n",
       "      <td>...</td>\n",
       "      <td>...</td>\n",
       "      <td>...</td>\n",
       "      <td>...</td>\n",
       "    </tr>\n",
       "    <tr>\n",
       "      <th>19968</th>\n",
       "      <td>902251</td>\n",
       "      <td>caleb</td>\n",
       "      <td>richmond</td>\n",
       "      <td>4.0</td>\n",
       "      <td>philp place</td>\n",
       "      <td>elimbah</td>\n",
       "      <td>4873</td>\n",
       "      <td>vic</td>\n",
       "      <td>NaN</td>\n",
       "      <td>NaN</td>\n",
       "      <td>03 73275720</td>\n",
       "      <td>None</td>\n",
       "    </tr>\n",
       "    <tr>\n",
       "      <th>19975</th>\n",
       "      <td>752160</td>\n",
       "      <td>ashleigh</td>\n",
       "      <td>None</td>\n",
       "      <td>30.0</td>\n",
       "      <td>winser crescent</td>\n",
       "      <td>buff point</td>\n",
       "      <td>4806</td>\n",
       "      <td>wa</td>\n",
       "      <td>NaN</td>\n",
       "      <td>36.0</td>\n",
       "      <td>04 10236954</td>\n",
       "      <td>glennhill</td>\n",
       "    </tr>\n",
       "    <tr>\n",
       "      <th>19984</th>\n",
       "      <td>134889</td>\n",
       "      <td>xavier</td>\n",
       "      <td>priest</td>\n",
       "      <td>28.0</td>\n",
       "      <td>needham place</td>\n",
       "      <td>reynella</td>\n",
       "      <td>3318</td>\n",
       "      <td>nsw</td>\n",
       "      <td>NaN</td>\n",
       "      <td>NaN</td>\n",
       "      <td>02 74580410</td>\n",
       "      <td>None</td>\n",
       "    </tr>\n",
       "    <tr>\n",
       "      <th>19994</th>\n",
       "      <td>912344</td>\n",
       "      <td>fraser</td>\n",
       "      <td>mcneill</td>\n",
       "      <td>10.0</td>\n",
       "      <td>collie street</td>\n",
       "      <td>booragul</td>\n",
       "      <td>2075</td>\n",
       "      <td>qld</td>\n",
       "      <td>NaN</td>\n",
       "      <td>31.0</td>\n",
       "      <td>02 77020191</td>\n",
       "      <td>None</td>\n",
       "    </tr>\n",
       "    <tr>\n",
       "      <th>19997</th>\n",
       "      <td>511885</td>\n",
       "      <td>alessia</td>\n",
       "      <td>mawlai</td>\n",
       "      <td>4.0</td>\n",
       "      <td>miller street</td>\n",
       "      <td>smithfield</td>\n",
       "      <td>3616</td>\n",
       "      <td>tas</td>\n",
       "      <td>NaN</td>\n",
       "      <td>26.0</td>\n",
       "      <td>03 83466737</td>\n",
       "      <td>None</td>\n",
       "    </tr>\n",
       "  </tbody>\n",
       "</table>\n",
       "<p>2011 rows × 12 columns</p>\n",
       "</div>"
      ],
      "text/plain": [
       "       patient_id given_name     surname  street_number         address_1  \\\n",
       "15         378167       cain     scarles           58.0      reader court   \n",
       "17         429365       None      coffey         1409.0      musson close   \n",
       "22         427069   mystique       white           85.0  herington street   \n",
       "29         284779  alexandra       miles           23.0      duffy street   \n",
       "34         600186    zachary  stancliffe           40.0  macgregor street   \n",
       "...           ...        ...         ...            ...               ...   \n",
       "19968      902251      caleb    richmond            4.0       philp place   \n",
       "19975      752160   ashleigh        None           30.0   winser crescent   \n",
       "19984      134889     xavier      priest           28.0     needham place   \n",
       "19994      912344     fraser     mcneill           10.0     collie street   \n",
       "19997      511885    alessia      mawlai            4.0     miller street   \n",
       "\n",
       "                   suburb postcode state  date_of_birth   age phone_number  \\\n",
       "15                dorrigo     2428   qld            NaN  31.0  03 67476384   \n",
       "17     beaconsfield upper     5019    wa            NaN  30.0  03 13369308   \n",
       "22          east maitland     6000   qld            NaN  21.0  07 24234495   \n",
       "29        christies beach     2047   nsw            NaN  29.0  02 24131074   \n",
       "34               coodanup     6027   nsw            NaN  29.0  03 67952046   \n",
       "...                   ...      ...   ...            ...   ...          ...   \n",
       "19968             elimbah     4873   vic            NaN   NaN  03 73275720   \n",
       "19975          buff point     4806    wa            NaN  36.0  04 10236954   \n",
       "19984            reynella     3318   nsw            NaN   NaN  02 74580410   \n",
       "19994            booragul     2075   qld            NaN  31.0  02 77020191   \n",
       "19997          smithfield     3616   tas            NaN  26.0  03 83466737   \n",
       "\n",
       "               address_2  \n",
       "15                jorobe  \n",
       "17            silverweir  \n",
       "22                  None  \n",
       "29     riverland village  \n",
       "34              woodsong  \n",
       "...                  ...  \n",
       "19968               None  \n",
       "19975          glennhill  \n",
       "19984               None  \n",
       "19994               None  \n",
       "19997               None  \n",
       "\n",
       "[2011 rows x 12 columns]"
      ]
     },
     "execution_count": 26,
     "metadata": {},
     "output_type": "execute_result"
    }
   ],
   "source": [
    "df_final = script_fds.get_final_ds(df_patient, df_pcr)\n",
    "#\n",
    "df_final[:3]\n",
    "#df_patient[df_patient['date_of_birth'].isnull()]"
   ]
  },
  {
   "cell_type": "code",
   "execution_count": 3,
   "metadata": {},
   "outputs": [
    {
     "data": {
      "image/png": "[encoded data removed]",
      "text/plain": [
       "<Figure size 576x432 with 1 Axes>"
      ]
     },
     "metadata": {
      "needs_background": "light"
     },
     "output_type": "display_data"
    }
   ],
   "source": [
    "plt.figure(figsize=(8,6))\n",
    "\n",
    "plt.title('Distribution of PCR in Australia')\n",
    "plt.xlabel('pcr')\n",
    "plt.ylabel('Count')\n",
    "\n",
    "df_final_pcr = df_final[['pcr']]\n",
    "ncount = len(df_final_pcr)\n",
    "labels = ['Negative', 'Positive']\n",
    "ax = sns.countplot(x=\"pcr\", data=df_final_pcr)\n",
    "ax.set_xticklabels(labels, rotation='horizontal', fontsize=10)\n",
    "\n",
    "for p in ax.patches:\n",
    "    x=p.get_bbox().get_points()[:,0]\n",
    "    y=p.get_bbox().get_points()[1,1]\n",
    "    ax.annotate('{:.1f}%'.format(100.*y/ncount), (x.mean(), y), \n",
    "            ha='center', va='bottom') # set the alignment of the text\n",
    "######################################################################\n",
    "### Commentaire: "
   ]
  },
  {
   "cell_type": "code",
   "execution_count": 4,
   "metadata": {},
   "outputs": [
    {
     "data": {
      "image/png": "[encoded data removed]",
      "text/plain": [
       "<Figure size 576x432 with 1 Axes>"
      ]
     },
     "metadata": {
      "needs_background": "light"
     },
     "output_type": "display_data"
    }
   ],
   "source": [
    "plt.figure(figsize=(8,6))\n",
    "\n",
    "plt.title('Distribution of the number of positive cases by state')\n",
    "plt.xlabel('pcr')\n",
    "plt.ylabel('Count')\n",
    "\n",
    "df_positive_state = df_final[['state']][df_final['pcr'] == 1]\n",
    "ncount = len(df_positive_state)\n",
    "\n",
    "ax = sns.countplot(x=\"state\", data=df_positive_state)\n",
    "#ax.set_xticklabels(labels, rotation='horizontal', fontsize=10)\n",
    "\n",
    "for p in ax.patches:\n",
    "    x=p.get_bbox().get_points()[:,0]\n",
    "    y=p.get_bbox().get_points()[1,1]\n",
    "    ax.annotate('{:.1f}%'.format(100.*y/ncount), (x.mean(), y), \n",
    "            ha='center', va='bottom') # set the alignment of the text"
   ]
  },
  {
   "cell_type": "code",
   "execution_count": 5,
   "metadata": {},
   "outputs": [],
   "source": [
    "#plt.figure(figsize=(12,8))\n",
    "\n",
    "#plt.title('Distribution of PCR in Australia s states')\n",
    "#plt.xlabel('pcr')\n",
    "#plt.ylabel('Count')\n",
    "\n",
    "#df_count_state_pcr = df_final[['state', 'pcr']]\n",
    "#df_count_state_pcr['pcr'].replace(to_replace =0, \n",
    "                          #        value =\"Negative\",\n",
    "                           #      inplace=True) \n",
    "#df_count_state_pcr['pcr'].replace(to_replace = 1, \n",
    "                              #    value =\"Positive\",\n",
    "                               #  inplace=True) \n",
    "\n",
    "#ax = sns.countplot(x=\"state\", hue=\"pcr\", data=df_count_state_pcr)\n",
    "#total = len(df_count_state_pcr)\n",
    "#for p in ax.patches:\n",
    "#    percentage = f'{100 * p.get_height() / total:.1f}%\\n'\n",
    "#    x = p.get_x() + p.get_width() / 2\n",
    "#    y = p.get_height()\n",
    "#    ax.annotate(percentage, (x, y), ha='center', va='center')"
   ]
  },
  {
   "cell_type": "code",
   "execution_count": 6,
   "metadata": {},
   "outputs": [
    {
     "data": {
      "image/png": "[encoded data removed]",
      "text/plain": [
       "<Figure size 864x576 with 1 Axes>"
      ]
     },
     "metadata": {
      "needs_background": "light"
     },
     "output_type": "display_data"
    }
   ],
   "source": [
    "plt.figure(figsize=(12,8))\n",
    "\n",
    "plt.title('Distribution of PCR in Australia s states')\n",
    "plt.xlabel('pcr')\n",
    "plt.ylabel('Count')\n",
    "\n",
    "df_state_pcr = df_final[['state', 'pcr']]\n",
    "df_count_state_pcr = df_state_pcr.copy()\n",
    "df_count_state_pcr['pcr'].replace(to_replace =0, \n",
    "                                  value =\"Negative\",\n",
    "                                 inplace=True) \n",
    "df_count_state_pcr['pcr'].replace(to_replace = 1, \n",
    "                                  value =\"Positive\",\n",
    "                                 inplace=True) \n",
    "\n",
    "ax = sns.countplot(x=\"state\", hue=\"pcr\", data=df_count_state_pcr)\n",
    "\n",
    "bars = ax.patches\n",
    "half = int(len(bars)/2)\n",
    "left_bars = bars[:half]\n",
    "right_bars = bars[half:]\n",
    "\n",
    "for left, right in zip(left_bars, right_bars):\n",
    "    height_l = left.get_height()\n",
    "    height_r = right.get_height()\n",
    "    total = height_l + height_r\n",
    "\n",
    "    ax.text(left.get_x() + left.get_width()/2., height_l + 40, '{0:.0%}'.format(height_l/total), ha=\"center\")\n",
    "    ax.text(right.get_x() + right.get_width()/2., height_r + 40, '{0:.0%}'.format(height_r/total), ha=\"center\")"
   ]
  },
  {
   "cell_type": "code",
   "execution_count": 22,
   "metadata": {},
   "outputs": [
    {
     "data": {
      "text/plain": [
       "<matplotlib.legend.Legend at 0x1dd83baae48>"
      ]
     },
     "execution_count": 22,
     "metadata": {},
     "output_type": "execute_result"
    },
    {
     "data": {
      "image/png": "[encoded data removed]",
      "text/plain": [
       "<Figure size 1152x864 with 1 Axes>"
      ]
     },
     "metadata": {
      "needs_background": "light"
     },
     "output_type": "display_data"
    }
   ],
   "source": [
    "plt.figure(figsize=(16,12))\n",
    "\n",
    "df_age_state = df_final[['age', 'state', 'pcr']]\n",
    "df_age_state_box = df_age_state.copy()\n",
    "df_age_state_box['pcr'].replace(to_replace =0, \n",
    "                                  value =\"Negative\",\n",
    "                                 inplace=True) \n",
    "df_age_state_box['pcr'].replace(to_replace = 1, \n",
    "                                  value =\"Positive\",\n",
    "                                 inplace=True) \n",
    "\n",
    "ax = sns.boxplot(x=\"state\", y=\"age\", hue=\"pcr\",\n",
    "                 data=df_age_state_box, palette=\"Set3\")\n",
    "\n",
    "plt.legend(loc='upper right')"
   ]
  },
  {
   "cell_type": "code",
   "execution_count": 20,
   "metadata": {},
   "outputs": [
    {
     "data": {
      "image/png": "[encoded data removed]",
      "text/plain": [
       "<Figure size 720x432 with 1 Axes>"
      ]
     },
     "metadata": {
      "needs_background": "light"
     },
     "output_type": "display_data"
    }
   ],
   "source": [
    "#plt.figure(figsize=(12,8))\n",
    "\n",
    "#plt.title('Distribution of PCR in Australia s states')\n",
    "#plt.xlabel('pcr')\n",
    "#plt.ylabel('Count')\n",
    "plt.figure(figsize=(10,6))\n",
    "\n",
    "df_pos_age_state = df_final[['age', 'state']][df_final['pcr'] == 1]\n",
    "ax = sns.boxplot(x=\"state\", y=\"age\", data=df_pos_age_state)"
   ]
  },
  {
   "cell_type": "code",
   "execution_count": 8,
   "metadata": {},
   "outputs": [],
   "source": [
    "#df_final_pcr = df_final[['pcr']]\n",
    "\n",
    "#labels = ['Negative', 'Positive'];\n",
    "#graph = sns.catplot(x=\"pcr\", \n",
    " #           kind=\"count\",\n",
    "            #palette=\"ch:.25\", \n",
    " #           data=df_final_pcr)\n",
    "#graph.set_axis_labels(\"PCR\", \"Count\")\n",
    "#graph.set_xticklabels(labels, rotation='horizontal', fontsize=10)\n",
    "\n",
    "#graph\n",
    "# Ajouter pourcentage !\n",
    "#df_final_pcr[:10]"
   ]
  },
  {
   "cell_type": "code",
   "execution_count": 9,
   "metadata": {},
   "outputs": [],
   "source": [
    "#df_final_state = df_final[['state']][df_final['pcr'] == 1]\n",
    "\n",
    "#labels = ['Negative', 'Positive'];\n",
    "#graph = sns.catplot(x=\"state\", \n",
    " #           kind=\"count\",\n",
    "  #          #palette=\"ch:.25\", \n",
    "   #         data=df_final_state)\n",
    "#graph.set_axis_labels(\"state\", \"Count of contamination by state\")\n",
    "#graph.set_xticklabels(labels, rotation='horizontal', fontsize=10)\n",
    "#graph"
   ]
  },
  {
   "cell_type": "code",
   "execution_count": null,
   "metadata": {},
   "outputs": [],
   "source": []
  }
 ],
 "metadata": {
  "kernelspec": {
   "display_name": "Python 3",
   "language": "python",
   "name": "python3"
  },
  "language_info": {
   "codemirror_mode": {
    "name": "ipython",
    "version": 3
   },
   "file_extension": ".py",
   "mimetype": "text/x-python",
   "name": "python",
   "nbconvert_exporter": "python",
   "pygments_lexer": "ipython3",
   "version": "3.7.6"
  }
 },
 "nbformat": 4,
 "nbformat_minor": 4
}
