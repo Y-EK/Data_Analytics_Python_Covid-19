{
 "cells": [
  {
   "cell_type": "code",
   "execution_count": 1,
   "metadata": {},
   "outputs": [],
   "source": [
    "import pandas as pd\n",
    "import numpy as np\n",
    "import datetime\n",
    "from getting_started import *\n",
    "import detect_duplicates_script as script_dd\n",
    "import get_final_dataset as script_fds\n",
    "import seaborn as sns"
   ]
  },
  {
   "cell_type": "code",
   "execution_count": 2,
   "metadata": {},
   "outputs": [
    {
     "data": {
      "text/html": [
       "<div>\n",
       "<style scoped>\n",
       "    .dataframe tbody tr th:only-of-type {\n",
       "        vertical-align: middle;\n",
       "    }\n",
       "\n",
       "    .dataframe tbody tr th {\n",
       "        vertical-align: top;\n",
       "    }\n",
       "\n",
       "    .dataframe thead th {\n",
       "        text-align: right;\n",
       "    }\n",
       "</style>\n",
       "<table border=\"1\" class=\"dataframe\">\n",
       "  <thead>\n",
       "    <tr style=\"text-align: right;\">\n",
       "      <th></th>\n",
       "      <th>patient_id</th>\n",
       "      <th>pcr</th>\n",
       "      <th>postcode</th>\n",
       "      <th>state</th>\n",
       "      <th>date_of_birth</th>\n",
       "      <th>age</th>\n",
       "    </tr>\n",
       "  </thead>\n",
       "  <tbody>\n",
       "    <tr>\n",
       "      <th>0</th>\n",
       "      <td>653091</td>\n",
       "      <td>0</td>\n",
       "      <td>4514</td>\n",
       "      <td>QLD</td>\n",
       "      <td>1973-04-26</td>\n",
       "      <td>47.0</td>\n",
       "    </tr>\n",
       "    <tr>\n",
       "      <th>1</th>\n",
       "      <td>347667</td>\n",
       "      <td>0</td>\n",
       "      <td>4551</td>\n",
       "      <td>QLD</td>\n",
       "      <td>1990-03-16</td>\n",
       "      <td>30.0</td>\n",
       "    </tr>\n",
       "    <tr>\n",
       "      <th>2</th>\n",
       "      <td>708481</td>\n",
       "      <td>1</td>\n",
       "      <td>3199</td>\n",
       "      <td>VIC</td>\n",
       "      <td>1943-03-17</td>\n",
       "      <td>77.0</td>\n",
       "    </tr>\n",
       "  </tbody>\n",
       "</table>\n",
       "</div>"
      ],
      "text/plain": [
       "   patient_id  pcr  postcode state date_of_birth   age\n",
       "0      653091    0      4514   QLD    1973-04-26  47.0\n",
       "1      347667    0      4551   QLD    1990-03-16  30.0\n",
       "2      708481    1      3199   VIC    1943-03-17  77.0"
      ]
     },
     "execution_count": 2,
     "metadata": {},
     "output_type": "execute_result"
    }
   ],
   "source": [
    "df_final = script_fds.get_final_ds(df_patient, df_pcr)\n",
    "#\n",
    "#df_final[:3]"
   ]
  },
  {
   "cell_type": "code",
   "execution_count": 12,
   "metadata": {},
   "outputs": [
    {
     "data": {
      "text/plain": [
       "<seaborn.axisgrid.FacetGrid at 0x2398fef3a48>"
      ]
     },
     "execution_count": 12,
     "metadata": {},
     "output_type": "execute_result"
    },
    {
     "data": {
      "image/png": "[encoded data removed]",
      "text/plain": [
       "<Figure size 360x360 with 1 Axes>"
      ]
     },
     "metadata": {
      "needs_background": "light"
     },
     "output_type": "display_data"
    }
   ],
   "source": [
    "df_final_pcr = df_final[['pcr']]\n",
    "\n",
    "labels = ['Negative', 'Positive'];\n",
    "graph = sns.catplot(x=\"pcr\", \n",
    "            kind=\"count\",\n",
    "            #palette=\"ch:.25\", \n",
    "            data=df_final_pcr)\n",
    "graph.set_axis_labels(\"PCR\", \"Count\")\n",
    "graph.set_xticklabels(labels, rotation='horizontal', fontsize=10)\n",
    "graph\n",
    "# Ajouter pourcentage !\n",
    "#df_final_pcr[:10]"
   ]
  },
  {
   "cell_type": "code",
   "execution_count": 21,
   "metadata": {},
   "outputs": [
    {
     "data": {
      "text/plain": [
       "<seaborn.axisgrid.FacetGrid at 0x23991094fc8>"
      ]
     },
     "execution_count": 21,
     "metadata": {},
     "output_type": "execute_result"
    },
    {
     "data": {
      "image/png": "[encoded data removed]",
      "text/plain": [
       "<Figure size 360x360 with 1 Axes>"
      ]
     },
     "metadata": {
      "needs_background": "light"
     },
     "output_type": "display_data"
    }
   ],
   "source": [
    "df_final_state = df_final[['state']][df_final['pcr'] == 1]\n",
    "\n",
    "#labels = ['Negative', 'Positive'];\n",
    "graph = sns.catplot(x=\"state\", \n",
    "            kind=\"count\",\n",
    "            #palette=\"ch:.25\", \n",
    "            data=df_final_state)\n",
    "graph.set_axis_labels(\"state\", \"Count of contamination by state\")\n",
    "#graph.set_xticklabels(labels, rotation='horizontal', fontsize=10)\n",
    "graph"
   ]
  }
 ],
 "metadata": {
  "kernelspec": {
   "display_name": "Python 3",
   "language": "python",
   "name": "python3"
  },
  "language_info": {
   "codemirror_mode": {
    "name": "ipython",
    "version": 3
   },
   "file_extension": ".py",
   "mimetype": "text/x-python",
   "name": "python",
   "nbconvert_exporter": "python",
   "pygments_lexer": "ipython3",
   "version": "3.7.6"
  }
 },
 "nbformat": 4,
 "nbformat_minor": 4
}
